{
 "cells": [
  {
   "cell_type": "markdown",
   "metadata": {},
   "source": [
    "# Most requested app profiles"
   ]
  },
  {
   "cell_type": "markdown",
   "metadata": {},
   "source": [
    "We are working for a company that builds Android and IOS mobile apps available on Google Play and Apple Store.\n",
    "They only develop apps that are free to download and install , so our main source of revenue consist of app ads.\n",
    "The more users that see ads , the better will be our profit.\n"
   ]
  },
  {
   "cell_type": "markdown",
   "metadata": {},
   "source": [
    "Our aim in this project is to analyze all english apps on Google Play and Apple Store in order to understand what are the features that make an app desirable for the users , we want to help our developers to understand what type of apps are likely to attract more users. These are two data sets that seems suitable for our goals:\n"
   ]
  },
  {
   "cell_type": "markdown",
   "metadata": {},
   "source": [
    "* [A data set](https://www.kaggle.com/lava18/google-play-store-apps) containing data for about 10,000 Android apps from the Google Play. Data was collected in August 2018. You can download the data set directly from [this link](https://dq-content.s3.amazonaws.com/350/googleplaystore.csv).\n",
    "* [A data set](https://www.kaggle.com/ramamet4/app-store-apple-data-set-10k-apps) containing data for about 7,000 iOS apps from the App Store. Data was collected in July 2017. You can download the data set directly from [this link](https://dq-content.s3.amazonaws.com/350/AppleStore.csv)."
   ]
  },
  {
   "cell_type": "code",
   "execution_count": 1,
   "metadata": {},
   "outputs": [],
   "source": [
    "opened_file=open('AppleStore.csv')\n",
    "from csv import reader\n",
    "read_file=reader(opened_file)\n",
    "ios=list(read_file)\n",
    "ios_header=ios[0]\n",
    "ios=ios[1:]"
   ]
  },
  {
   "cell_type": "code",
   "execution_count": 2,
   "metadata": {
    "collapsed": true
   },
   "outputs": [],
   "source": [
    "opened_file=open('googleplaystore.csv')\n",
    "from csv import reader\n",
    "read_file=reader(opened_file)\n",
    "android=list(read_file)\n",
    "android_header=android[0]\n",
    "android=android[1:]\n"
   ]
  },
  {
   "cell_type": "markdown",
   "metadata": {
    "collapsed": true
   },
   "source": [
    "To make it easier to explore the data set we'll build a function called explore_data() that we can use to explore rows in a easier way. We'll also add an option to show the number of rows and columns for each data set."
   ]
  },
  {
   "cell_type": "code",
   "execution_count": 3,
   "metadata": {},
   "outputs": [],
   "source": [
    "def explore_data(dataset,start,end,rows_and_columns=False):\n",
    "    dataset_slice = dataset[start:end]\n",
    "    for row in dataset_slice:\n",
    "        print(row)\n",
    "        print('\\n')\n",
    "        \n",
    "    if rows_and_columns:\n",
    "        print('Number of rows:',len(dataset))\n",
    "        print('Number of columns:',len(dataset[0]))\n",
    "    \n",
    "   \n",
    "    "
   ]
  },
  {
   "cell_type": "code",
   "execution_count": 4,
   "metadata": {},
   "outputs": [
    {
     "name": "stdout",
     "output_type": "stream",
     "text": [
      "['id', 'track_name', 'size_bytes', 'currency', 'price', 'rating_count_tot', 'rating_count_ver', 'user_rating', 'user_rating_ver', 'ver', 'cont_rating', 'prime_genre', 'sup_devices.num', 'ipadSc_urls.num', 'lang.num', 'vpp_lic']\n",
      "\n",
      "\n",
      "['284882215', 'Facebook', '389879808', 'USD', '0.0', '2974676', '212', '3.5', '3.5', '95.0', '4+', 'Social Networking', '37', '1', '29', '1']\n",
      "\n",
      "\n",
      "['389801252', 'Instagram', '113954816', 'USD', '0.0', '2161558', '1289', '4.5', '4.0', '10.23', '12+', 'Photo & Video', '37', '0', '29', '1']\n",
      "\n",
      "\n",
      "['529479190', 'Clash of Clans', '116476928', 'USD', '0.0', '2130805', '579', '4.5', '4.5', '9.24.12', '9+', 'Games', '38', '5', '18', '1']\n",
      "\n",
      "\n",
      "Number of rows: 7197\n",
      "Number of columns: 16\n"
     ]
    }
   ],
   "source": [
    "print(ios_header)\n",
    "print('\\n')\n",
    "(explore_data(ios,0,3,True))"
   ]
  },
  {
   "cell_type": "markdown",
   "metadata": {},
   "source": [
    "In the ios database there are 7197 rows and 16 columns , the columns that seems to be significant for our analysis are : 'track_name', 'currency' , 'price' , rating_count_tot' , 'rating_count_ver' , ' prime_genre'.\n",
    "Not all column names are clear in this case , details about the content of each column can be found here: [documentation](https://www.kaggle.com/ramamet4/app-store-apple-data-set-10k-apps/home)"
   ]
  },
  {
   "cell_type": "code",
   "execution_count": 5,
   "metadata": {
    "scrolled": false
   },
   "outputs": [
    {
     "name": "stdout",
     "output_type": "stream",
     "text": [
      "['App', 'Category', 'Rating', 'Reviews', 'Size', 'Installs', 'Type', 'Price', 'Content Rating', 'Genres', 'Last Updated', 'Current Ver', 'Android Ver']\n",
      "\n",
      "\n",
      "['Photo Editor & Candy Camera & Grid & ScrapBook', 'ART_AND_DESIGN', '4.1', '159', '19M', '10,000+', 'Free', '0', 'Everyone', 'Art & Design', 'January 7, 2018', '1.0.0', '4.0.3 and up']\n",
      "\n",
      "\n",
      "['Coloring book moana', 'ART_AND_DESIGN', '3.9', '967', '14M', '500,000+', 'Free', '0', 'Everyone', 'Art & Design;Pretend Play', 'January 15, 2018', '2.0.0', '4.0.3 and up']\n",
      "\n",
      "\n",
      "['U Launcher Lite – FREE Live Cool Themes, Hide Apps', 'ART_AND_DESIGN', '4.7', '87510', '8.7M', '5,000,000+', 'Free', '0', 'Everyone', 'Art & Design', 'August 1, 2018', '1.2.4', '4.0.3 and up']\n",
      "\n",
      "\n",
      "Number of rows: 10841\n",
      "Number of columns: 13\n"
     ]
    }
   ],
   "source": [
    "print(android_header)\n",
    "print('\\n')\n",
    "(explore_data(android,0,3,True))"
   ]
  },
  {
   "cell_type": "markdown",
   "metadata": {},
   "source": [
    "In the android database there are 10841 rows and 13 columns , the columns that seems to be interesting for our analysis are : 'Category' , 'App' , 'Type' , 'Installs' , 'Review' , 'Price' , 'Genres'."
   ]
  },
  {
   "cell_type": "markdown",
   "metadata": {},
   "source": [
    "# Deleting wrong data"
   ]
  },
  {
   "cell_type": "code",
   "execution_count": 6,
   "metadata": {},
   "outputs": [
    {
     "name": "stdout",
     "output_type": "stream",
     "text": [
      "10841\n"
     ]
    }
   ],
   "source": [
    "print(len(android))"
   ]
  },
  {
   "cell_type": "markdown",
   "metadata": {},
   "source": [
    "The row 10472 correspond to the app ' Life made WI-FI Touchscreen Photo Frame' and we can see that its rating (column 3) is 19. This is an absurd because maximum possible rating for Google Play apps is 5. As a consequences we will delete this row."
   ]
  },
  {
   "cell_type": "code",
   "execution_count": 7,
   "metadata": {},
   "outputs": [
    {
     "name": "stdout",
     "output_type": "stream",
     "text": [
      "10840\n"
     ]
    }
   ],
   "source": [
    "del(android[10472])\n",
    "print(len(android))"
   ]
  },
  {
   "cell_type": "markdown",
   "metadata": {},
   "source": [
    "# Removing Duplicates Entries"
   ]
  },
  {
   "cell_type": "markdown",
   "metadata": {},
   "source": [
    "## Part One"
   ]
  },
  {
   "cell_type": "markdown",
   "metadata": {},
   "source": [
    "In the Google Play data set can happen you could find duplicates entries. To optimize our study we don't want to count certain apps more than once so we need to remove the duplicates. For instance Instagram has 4 entries:"
   ]
  },
  {
   "cell_type": "code",
   "execution_count": 8,
   "metadata": {},
   "outputs": [
    {
     "name": "stdout",
     "output_type": "stream",
     "text": [
      "['Instagram', 'SOCIAL', '4.5', '66577313', 'Varies with device', '1,000,000,000+', 'Free', '0', 'Teen', 'Social', 'July 31, 2018', 'Varies with device', 'Varies with device']\n",
      "\n",
      "\n",
      "['Instagram', 'SOCIAL', '4.5', '66577446', 'Varies with device', '1,000,000,000+', 'Free', '0', 'Teen', 'Social', 'July 31, 2018', 'Varies with device', 'Varies with device']\n",
      "\n",
      "\n",
      "['Instagram', 'SOCIAL', '4.5', '66577313', 'Varies with device', '1,000,000,000+', 'Free', '0', 'Teen', 'Social', 'July 31, 2018', 'Varies with device', 'Varies with device']\n",
      "\n",
      "\n",
      "['Instagram', 'SOCIAL', '4.5', '66509917', 'Varies with device', '1,000,000,000+', 'Free', '0', 'Teen', 'Social', 'July 31, 2018', 'Varies with device', 'Varies with device']\n",
      "\n",
      "\n"
     ]
    }
   ],
   "source": [
    "for app in android:\n",
    "    if app[0] == 'Instagram':\n",
    "        print(app)\n",
    "        print('\\n')"
   ]
  },
  {
   "cell_type": "markdown",
   "metadata": {},
   "source": [
    "Now we will identify all the duplicates in the Google Play data set."
   ]
  },
  {
   "cell_type": "code",
   "execution_count": 9,
   "metadata": {},
   "outputs": [
    {
     "name": "stdout",
     "output_type": "stream",
     "text": [
      "Number of duplicates apps: 1181\n",
      "\n",
      "\n"
     ]
    }
   ],
   "source": [
    "duplicate_apps=[]\n",
    "unique_apps=[]\n",
    "\n",
    "for app in android:\n",
    "    name = app[0]\n",
    "    if name in unique_apps:\n",
    "        duplicate_apps.append(name)\n",
    "    else:\n",
    "        unique_apps.append(name)\n",
    "        \n",
    "print('Number of duplicates apps:',len(duplicate_apps))\n",
    "print('\\n')\n"
   ]
  },
  {
   "cell_type": "markdown",
   "metadata": {},
   "source": [
    "However we don't want to remove the duplicates randomly , there is a better strategy. If we examine the Instagram example above , the main differences happens on the fourth position of each row. The different numbers show the data was collected at different times. The higher the number of reviews , the more recent the data should be , so we should maintain the app with the highest number and delete all the others.\n"
   ]
  },
  {
   "cell_type": "markdown",
   "metadata": {},
   "source": [
    "## Part Two"
   ]
  },
  {
   "cell_type": "markdown",
   "metadata": {},
   "source": [
    "Let's start by building the dictionary."
   ]
  },
  {
   "cell_type": "code",
   "execution_count": 10,
   "metadata": {},
   "outputs": [],
   "source": [
    "reviews_max = {}\n",
    "\n",
    "for app in android:\n",
    "    name = app[0]\n",
    "    n_reviews = float(app[3])\n",
    "    \n",
    "    if name in reviews_max and reviews_max[name] < n_reviews:\n",
    "        reviews_max[name] = n_reviews\n",
    "    \n",
    "    elif name not in reviews_max:\n",
    "        reviews_max[name] = n_reviews\n",
    "    \n",
    "    \n",
    "    "
   ]
  },
  {
   "cell_type": "markdown",
   "metadata": {},
   "source": [
    "In the previous code cell we found that there are 1181 duplicates apps , so the lenght of our dictionary should be equal to the difference between the lenght of our data set and 1181.\n",
    "Let's check !\n"
   ]
  },
  {
   "cell_type": "code",
   "execution_count": 11,
   "metadata": {},
   "outputs": [
    {
     "name": "stdout",
     "output_type": "stream",
     "text": [
      "Expected length: 9659\n",
      "Actual length: 9659\n"
     ]
    }
   ],
   "source": [
    "print('Expected length:', len(android)-1181)\n",
    "print('Actual length:', len(reviews_max))"
   ]
  },
  {
   "cell_type": "markdown",
   "metadata": {
    "collapsed": true
   },
   "source": [
    "Now we want to remove the duplicate rows using the reviews_max dictionary. For the duplicate cases we will only keep the entries with the highest number of reviews.\n"
   ]
  },
  {
   "cell_type": "code",
   "execution_count": 12,
   "metadata": {},
   "outputs": [],
   "source": [
    "android_clean = []\n",
    "already_added = []\n",
    "\n",
    "for app in android:\n",
    "    name = app[0]\n",
    "    n_reviews = float(app[3])\n",
    "    if (reviews_max[name] == n_reviews) and (name not in already_added):\n",
    "        android_clean.append(app)\n",
    "        already_added.append(name)\n",
    "    "
   ]
  },
  {
   "cell_type": "markdown",
   "metadata": {},
   "source": [
    "Now let's explore the android_clean data set to confirm that the\n",
    "number of rows is 9659"
   ]
  },
  {
   "cell_type": "code",
   "execution_count": 13,
   "metadata": {
    "scrolled": true
   },
   "outputs": [
    {
     "name": "stdout",
     "output_type": "stream",
     "text": [
      "9659\n"
     ]
    }
   ],
   "source": [
    "print(len(android_clean))\n",
    "\n"
   ]
  },
  {
   "cell_type": "markdown",
   "metadata": {},
   "source": [
    "As we expected , android_clean data set has 9659 rows just like reviews_max dictionary"
   ]
  },
  {
   "cell_type": "markdown",
   "metadata": {},
   "source": [
    "# Removing non-English apps"
   ]
  },
  {
   "cell_type": "markdown",
   "metadata": {},
   "source": [
    "## Part One"
   ]
  },
  {
   "cell_type": "markdown",
   "metadata": {},
   "source": [
    "We use English for apps we develop at our company, and we would like to analyze only the apps that are directed towars an English-speaking audience."
   ]
  },
  {
   "cell_type": "markdown",
   "metadata": {},
   "source": [
    "We are going to build a function that tell us if an app is English-written or not. To do that we will use the ASCII code knowing that the characters used in an English text are all in the range 0 to 127. If a character exceed this range we'll assume that the app is not an English-written one."
   ]
  },
  {
   "cell_type": "code",
   "execution_count": 14,
   "metadata": {},
   "outputs": [],
   "source": [
    "def english_or_not (string):\n",
    "    for character in string:\n",
    "        if(ord(character)>127):\n",
    "            return False\n",
    "    return True    \n",
    "        \n",
    "            \n",
    "    "
   ]
  },
  {
   "cell_type": "code",
   "execution_count": 15,
   "metadata": {},
   "outputs": [
    {
     "name": "stdout",
     "output_type": "stream",
     "text": [
      "True\n",
      "False\n"
     ]
    }
   ],
   "source": [
    "print(english_or_not('Instagram'))\n",
    "print(english_or_not('爱奇艺PPS -《欢乐颂2》电视剧热播'))\n"
   ]
  },
  {
   "cell_type": "markdown",
   "metadata": {},
   "source": [
    "The function seems to work fine , but unfortunately there are many apps that use not common character (™,— (em dash), – (en dash), etc.) or emojis and we would't wish for this to happen."
   ]
  },
  {
   "cell_type": "code",
   "execution_count": 16,
   "metadata": {},
   "outputs": [
    {
     "name": "stdout",
     "output_type": "stream",
     "text": [
      "False\n",
      "False\n"
     ]
    }
   ],
   "source": [
    "print(english_or_not('Docs To Go™ Free Office Suite'))\n",
    "print(english_or_not('Instachat 😜'))"
   ]
  },
  {
   "cell_type": "code",
   "execution_count": 17,
   "metadata": {},
   "outputs": [
    {
     "name": "stdout",
     "output_type": "stream",
     "text": [
      "8482\n",
      "128540\n"
     ]
    }
   ],
   "source": [
    "print(ord('™'))\n",
    "print(ord('😜'))"
   ]
  },
  {
   "cell_type": "markdown",
   "metadata": {},
   "source": [
    "## Part Two"
   ]
  },
  {
   "cell_type": "markdown",
   "metadata": {},
   "source": [
    "To minimize the effects of data loss , we'll remove only apps with a minimum of 4 characters in their names that exceed the considered range"
   ]
  },
  {
   "cell_type": "code",
   "execution_count": 18,
   "metadata": {},
   "outputs": [
    {
     "name": "stdout",
     "output_type": "stream",
     "text": [
      "True\n",
      "True\n",
      "False\n"
     ]
    }
   ],
   "source": [
    "def english_or_not (string):\n",
    "    count=0 \n",
    "    \n",
    "    for character in string:\n",
    "        if(ord(character)>127):\n",
    "            count+=1\n",
    "            \n",
    "    if (count>3):\n",
    "        return False\n",
    "    else:\n",
    "        return True\n",
    "    \n",
    "print(english_or_not('Docs To Go™ Free Office Suite'))\n",
    "print(english_or_not('Instachat 😜'))  \n",
    "print(english_or_not('爱奇艺PPS -《欢乐颂2》电视剧热播'))\n",
    "           \n",
    "       \n",
    "        "
   ]
  },
  {
   "cell_type": "markdown",
   "metadata": {},
   "source": [
    "Now we'll use the english_or_not function to filter out the non-English apps for both data set. "
   ]
  },
  {
   "cell_type": "code",
   "execution_count": 19,
   "metadata": {},
   "outputs": [
    {
     "name": "stdout",
     "output_type": "stream",
     "text": [
      "['Photo Editor & Candy Camera & Grid & ScrapBook', 'ART_AND_DESIGN', '4.1', '159', '19M', '10,000+', 'Free', '0', 'Everyone', 'Art & Design', 'January 7, 2018', '1.0.0', '4.0.3 and up']\n",
      "\n",
      "\n",
      "['U Launcher Lite – FREE Live Cool Themes, Hide Apps', 'ART_AND_DESIGN', '4.7', '87510', '8.7M', '5,000,000+', 'Free', '0', 'Everyone', 'Art & Design', 'August 1, 2018', '1.2.4', '4.0.3 and up']\n",
      "\n",
      "\n",
      "['Sketch - Draw & Paint', 'ART_AND_DESIGN', '4.5', '215644', '25M', '50,000,000+', 'Free', '0', 'Teen', 'Art & Design', 'June 8, 2018', 'Varies with device', '4.2 and up']\n",
      "\n",
      "\n",
      "Number of rows: 9614\n",
      "Number of columns: 13\n",
      "None\n",
      "\n",
      "\n",
      "['284882215', 'Facebook', '389879808', 'USD', '0.0', '2974676', '212', '3.5', '3.5', '95.0', '4+', 'Social Networking', '37', '1', '29', '1']\n",
      "\n",
      "\n",
      "['389801252', 'Instagram', '113954816', 'USD', '0.0', '2161558', '1289', '4.5', '4.0', '10.23', '12+', 'Photo & Video', '37', '0', '29', '1']\n",
      "\n",
      "\n",
      "['529479190', 'Clash of Clans', '116476928', 'USD', '0.0', '2130805', '579', '4.5', '4.5', '9.24.12', '9+', 'Games', '38', '5', '18', '1']\n",
      "\n",
      "\n",
      "Number of rows: 6183\n",
      "Number of columns: 16\n",
      "None\n"
     ]
    }
   ],
   "source": [
    "android_english= []\n",
    "ios_english= []\n",
    "\n",
    "for app in android_clean:\n",
    "    if(english_or_not(app[0])):\n",
    "        android_english.append(app)\n",
    "\n",
    "for app in ios:\n",
    "    if(english_or_not(app[1])):\n",
    "        ios_english.append(app)\n",
    "        \n",
    "print(explore_data(android_english,0,3,True))\n",
    "print(\"\\n\")\n",
    "print(explore_data(ios_english,0,3,True))\n",
    "        "
   ]
  },
  {
   "cell_type": "markdown",
   "metadata": {},
   "source": [
    "We can see now we have 9614 Android apps and 6183 iOS apps.  "
   ]
  },
  {
   "cell_type": "markdown",
   "metadata": {},
   "source": [
    "# Isolating the free apps"
   ]
  },
  {
   "cell_type": "markdown",
   "metadata": {},
   "source": [
    "As we mentioned in the introduction , we only develop apps that \n",
    "are free to download , so we want to isolate the free apps in order to make a more accurate analysis."
   ]
  },
  {
   "cell_type": "code",
   "execution_count": 20,
   "metadata": {},
   "outputs": [
    {
     "name": "stdout",
     "output_type": "stream",
     "text": [
      "Android apps: 8864\n",
      "iOS apps: 3222\n"
     ]
    }
   ],
   "source": [
    "android_final = []\n",
    "ios_final = []\n",
    "\n",
    "for app in android_english:\n",
    "    if(app[7] == '0'):\n",
    "        android_final.append(app)\n",
    "        \n",
    "for app in ios_english:\n",
    "    if(app[4] == '0.0'):\n",
    "        ios_final.append(app)      \n",
    "        \n",
    "print(\"Android apps:\",len(android_final))\n",
    "print(\"iOS apps:\",len(ios_final))\n",
    "    "
   ]
  },
  {
   "cell_type": "markdown",
   "metadata": {},
   "source": [
    "We are left with 8864 Android apps and 3222 iOS apps , with should be enough for our analysis."
   ]
  },
  {
   "cell_type": "markdown",
   "metadata": {},
   "source": [
    "# Most common Apps by genre"
   ]
  },
  {
   "cell_type": "markdown",
   "metadata": {},
   "source": [
    "## Part One"
   ]
  },
  {
   "cell_type": "markdown",
   "metadata": {},
   "source": [
    "Our aim is to determinate the kinds of apps that are likely to attract more users because our income is strictly related to the number of people using our apps.\n",
    "\n",
    "To minimize risks we use this strategy:\n",
    "\n",
    "  1. Build a minimal Android version of the app and add it to the      Google play.\n",
    "  2. If the app has a good response from users,we develop it          further.\n",
    "  3. If the app is profitable after 6 months , we build an iOS        version of the app and add it to the App Store.\n",
    "\n",
    "Our real goal is to add the app both to the Google Play and the App Store , so we need to find app profiles that are successful on both markets. Let's begin the analisys to understand what are the best app genres to reach our goal. We will need to build frequency tables for *Category* and *Genres* columns of the Google Play data set and for *prime_genre* column of the App Store.\n",
    "  \n",
    "\n",
    "\n"
   ]
  },
  {
   "cell_type": "markdown",
   "metadata": {},
   "source": [
    "## Part Two"
   ]
  },
  {
   "cell_type": "markdown",
   "metadata": {},
   "source": [
    "Now we want to create two function to analyze the frequency tables:\n",
    "* One function to build frequency tables that show percentages\n",
    "* Another function that we can use to display the percentage in a descendent order.\n",
    "        \n",
    "        "
   ]
  },
  {
   "cell_type": "code",
   "execution_count": 21,
   "metadata": {},
   "outputs": [],
   "source": [
    "def freq_table (dataset,index):\n",
    "    genres= {}\n",
    "    genres_percentages = {}\n",
    "    total = 0\n",
    "    \n",
    "    for row in dataset:\n",
    "        total += 1\n",
    "        value=row[index]\n",
    "        if value in genres:\n",
    "            genres[value] += 1\n",
    "        else:\n",
    "            genres[value]=1\n",
    "            \n",
    "    for key in genres:\n",
    "        percentage = (genres[key]/total) * 100\n",
    "        genres_percentages[key] = percentage\n",
    "        \n",
    "    return genres_percentages        \n",
    "        \n",
    "def display_table(dataset, index):\n",
    "    table = freq_table(dataset, index)\n",
    "    table_display = []\n",
    "    for key in table:\n",
    "        key_val_as_tuple = (table[key], key)\n",
    "        table_display.append(key_val_as_tuple)\n",
    "\n",
    "    table_sorted = sorted(table_display, reverse = True)\n",
    "    for entry in table_sorted:\n",
    "        print(entry[1], ':', entry[0])        \n",
    "    "
   ]
  },
  {
   "cell_type": "markdown",
   "metadata": {},
   "source": [
    "## Part Three"
   ]
  },
  {
   "cell_type": "markdown",
   "metadata": {},
   "source": [
    "We start analyzing the frequency table for the *prime_genre* column of the Apple Store data set."
   ]
  },
  {
   "cell_type": "code",
   "execution_count": 22,
   "metadata": {},
   "outputs": [
    {
     "name": "stdout",
     "output_type": "stream",
     "text": [
      "Games : 58.16263190564867\n",
      "Entertainment : 7.883302296710118\n",
      "Photo & Video : 4.9658597144630665\n",
      "Education : 3.662321539416512\n",
      "Social Networking : 3.2898820608317814\n",
      "Shopping : 2.60707635009311\n",
      "Utilities : 2.5139664804469275\n",
      "Sports : 2.1415270018621975\n",
      "Music : 2.0484171322160147\n",
      "Health & Fitness : 2.0173805090006205\n",
      "Productivity : 1.7380509000620732\n",
      "Lifestyle : 1.5828677839851024\n",
      "News : 1.3345747982619491\n",
      "Travel : 1.2414649286157666\n",
      "Finance : 1.1173184357541899\n",
      "Weather : 0.8690254500310366\n",
      "Food & Drink : 0.8069522036002483\n",
      "Reference : 0.5586592178770949\n",
      "Business : 0.5276225946617008\n",
      "Book : 0.4345127250155183\n",
      "Navigation : 0.186219739292365\n",
      "Medical : 0.186219739292365\n",
      "Catalogs : 0.12414649286157665\n"
     ]
    }
   ],
   "source": [
    "display_table(ios_final,-5)    #prime_genre"
   ]
  },
  {
   "cell_type": "markdown",
   "metadata": {},
   "source": [
    "The result shows that in the Apple Store (free English apps) the most common genre is *Games* with the 58.16% of the total.\n",
    "*Entertainment* are the 7.88% followed by *Photo* and *Education* respectively with the 4.96% and the 3.66%.\n",
    "The general impression is that the App Store (free English apps) is dominated by fun apps (*Games, Entertainment, Social Networking, Sport, etc.*) while apps with practical purpose (*Health, Utilities, Medical, Book ,etc.*) are more rare.\n",
    "\n",
    "Lets' continue examinating *Category* and *Genres* columns of the Google Play data set."
   ]
  },
  {
   "cell_type": "code",
   "execution_count": 23,
   "metadata": {},
   "outputs": [
    {
     "name": "stdout",
     "output_type": "stream",
     "text": [
      "FAMILY : 18.907942238267147\n",
      "GAME : 9.724729241877256\n",
      "TOOLS : 8.461191335740072\n",
      "BUSINESS : 4.591606498194946\n",
      "LIFESTYLE : 3.9034296028880866\n",
      "PRODUCTIVITY : 3.892148014440433\n",
      "FINANCE : 3.7003610108303246\n",
      "MEDICAL : 3.531137184115524\n",
      "SPORTS : 3.395758122743682\n",
      "PERSONALIZATION : 3.3167870036101084\n",
      "COMMUNICATION : 3.2378158844765346\n",
      "HEALTH_AND_FITNESS : 3.0798736462093865\n",
      "PHOTOGRAPHY : 2.944494584837545\n",
      "NEWS_AND_MAGAZINES : 2.7978339350180503\n",
      "SOCIAL : 2.6624548736462095\n",
      "TRAVEL_AND_LOCAL : 2.33528880866426\n",
      "SHOPPING : 2.2450361010830324\n",
      "BOOKS_AND_REFERENCE : 2.1435018050541514\n",
      "DATING : 1.861462093862816\n",
      "VIDEO_PLAYERS : 1.7937725631768955\n",
      "MAPS_AND_NAVIGATION : 1.3989169675090252\n",
      "FOOD_AND_DRINK : 1.2409747292418771\n",
      "EDUCATION : 1.1620036101083033\n",
      "ENTERTAINMENT : 0.9589350180505415\n",
      "LIBRARIES_AND_DEMO : 0.9363718411552346\n",
      "AUTO_AND_VEHICLES : 0.9250902527075812\n",
      "HOUSE_AND_HOME : 0.8235559566787004\n",
      "WEATHER : 0.8009927797833934\n",
      "EVENTS : 0.7107400722021661\n",
      "PARENTING : 0.6543321299638989\n",
      "ART_AND_DESIGN : 0.6430505415162455\n",
      "COMICS : 0.6204873646209386\n",
      "BEAUTY : 0.5979241877256317\n"
     ]
    }
   ],
   "source": [
    "display_table(android_final,1)   #Category"
   ]
  },
  {
   "cell_type": "markdown",
   "metadata": {},
   "source": [
    "Here the situation is much different. In the Google play seems that there aren't so many apps designed for fun and on the other hand there are a good number of apps designed for practical purpose (family, tools, business, lifestyle) which are therefore better represented on Google Play compared to App Store.\n",
    "Let's see what the frequency table of the genre column tell us."
   ]
  },
  {
   "cell_type": "code",
   "execution_count": 24,
   "metadata": {},
   "outputs": [
    {
     "name": "stdout",
     "output_type": "stream",
     "text": [
      "Tools : 8.449909747292418\n",
      "Entertainment : 6.069494584837545\n",
      "Education : 5.347472924187725\n",
      "Business : 4.591606498194946\n",
      "Productivity : 3.892148014440433\n",
      "Lifestyle : 3.892148014440433\n",
      "Finance : 3.7003610108303246\n",
      "Medical : 3.531137184115524\n",
      "Sports : 3.463447653429603\n",
      "Personalization : 3.3167870036101084\n",
      "Communication : 3.2378158844765346\n",
      "Action : 3.1024368231046933\n",
      "Health & Fitness : 3.0798736462093865\n",
      "Photography : 2.944494584837545\n",
      "News & Magazines : 2.7978339350180503\n",
      "Social : 2.6624548736462095\n",
      "Travel & Local : 2.3240072202166067\n",
      "Shopping : 2.2450361010830324\n",
      "Books & Reference : 2.1435018050541514\n",
      "Simulation : 2.0419675090252705\n",
      "Dating : 1.861462093862816\n",
      "Arcade : 1.8501805054151623\n",
      "Video Players & Editors : 1.7712093862815883\n",
      "Casual : 1.7599277978339352\n",
      "Maps & Navigation : 1.3989169675090252\n",
      "Food & Drink : 1.2409747292418771\n",
      "Puzzle : 1.128158844765343\n",
      "Racing : 0.9927797833935018\n",
      "Role Playing : 0.9363718411552346\n",
      "Libraries & Demo : 0.9363718411552346\n",
      "Auto & Vehicles : 0.9250902527075812\n",
      "Strategy : 0.9138086642599278\n",
      "House & Home : 0.8235559566787004\n",
      "Weather : 0.8009927797833934\n",
      "Events : 0.7107400722021661\n",
      "Adventure : 0.6768953068592057\n",
      "Comics : 0.6092057761732852\n",
      "Beauty : 0.5979241877256317\n",
      "Art & Design : 0.5979241877256317\n",
      "Parenting : 0.4963898916967509\n",
      "Card : 0.45126353790613716\n",
      "Casino : 0.42870036101083037\n",
      "Trivia : 0.41741877256317694\n",
      "Educational;Education : 0.39485559566787\n",
      "Board : 0.3835740072202166\n",
      "Educational : 0.3722924187725632\n",
      "Education;Education : 0.33844765342960287\n",
      "Word : 0.2594765342960289\n",
      "Casual;Pretend Play : 0.236913357400722\n",
      "Music : 0.2030685920577617\n",
      "Racing;Action & Adventure : 0.16922382671480143\n",
      "Puzzle;Brain Games : 0.16922382671480143\n",
      "Entertainment;Music & Video : 0.16922382671480143\n",
      "Casual;Brain Games : 0.13537906137184114\n",
      "Casual;Action & Adventure : 0.13537906137184114\n",
      "Arcade;Action & Adventure : 0.12409747292418773\n",
      "Action;Action & Adventure : 0.10153429602888085\n",
      "Educational;Pretend Play : 0.09025270758122744\n",
      "Simulation;Action & Adventure : 0.078971119133574\n",
      "Parenting;Education : 0.078971119133574\n",
      "Entertainment;Brain Games : 0.078971119133574\n",
      "Board;Brain Games : 0.078971119133574\n",
      "Parenting;Music & Video : 0.06768953068592057\n",
      "Educational;Brain Games : 0.06768953068592057\n",
      "Casual;Creativity : 0.06768953068592057\n",
      "Art & Design;Creativity : 0.06768953068592057\n",
      "Education;Pretend Play : 0.056407942238267145\n",
      "Role Playing;Pretend Play : 0.04512635379061372\n",
      "Education;Creativity : 0.04512635379061372\n",
      "Role Playing;Action & Adventure : 0.033844765342960284\n",
      "Puzzle;Action & Adventure : 0.033844765342960284\n",
      "Entertainment;Creativity : 0.033844765342960284\n",
      "Entertainment;Action & Adventure : 0.033844765342960284\n",
      "Educational;Creativity : 0.033844765342960284\n",
      "Educational;Action & Adventure : 0.033844765342960284\n",
      "Education;Music & Video : 0.033844765342960284\n",
      "Education;Brain Games : 0.033844765342960284\n",
      "Education;Action & Adventure : 0.033844765342960284\n",
      "Adventure;Action & Adventure : 0.033844765342960284\n",
      "Video Players & Editors;Music & Video : 0.02256317689530686\n",
      "Sports;Action & Adventure : 0.02256317689530686\n",
      "Simulation;Pretend Play : 0.02256317689530686\n",
      "Puzzle;Creativity : 0.02256317689530686\n",
      "Music;Music & Video : 0.02256317689530686\n",
      "Entertainment;Pretend Play : 0.02256317689530686\n",
      "Casual;Education : 0.02256317689530686\n",
      "Board;Action & Adventure : 0.02256317689530686\n",
      "Video Players & Editors;Creativity : 0.01128158844765343\n",
      "Trivia;Education : 0.01128158844765343\n",
      "Travel & Local;Action & Adventure : 0.01128158844765343\n",
      "Tools;Education : 0.01128158844765343\n",
      "Strategy;Education : 0.01128158844765343\n",
      "Strategy;Creativity : 0.01128158844765343\n",
      "Strategy;Action & Adventure : 0.01128158844765343\n",
      "Simulation;Education : 0.01128158844765343\n",
      "Role Playing;Brain Games : 0.01128158844765343\n",
      "Racing;Pretend Play : 0.01128158844765343\n",
      "Puzzle;Education : 0.01128158844765343\n",
      "Parenting;Brain Games : 0.01128158844765343\n",
      "Music & Audio;Music & Video : 0.01128158844765343\n",
      "Lifestyle;Pretend Play : 0.01128158844765343\n",
      "Lifestyle;Education : 0.01128158844765343\n",
      "Health & Fitness;Education : 0.01128158844765343\n",
      "Health & Fitness;Action & Adventure : 0.01128158844765343\n",
      "Entertainment;Education : 0.01128158844765343\n",
      "Communication;Creativity : 0.01128158844765343\n",
      "Comics;Creativity : 0.01128158844765343\n",
      "Casual;Music & Video : 0.01128158844765343\n",
      "Card;Action & Adventure : 0.01128158844765343\n",
      "Books & Reference;Education : 0.01128158844765343\n",
      "Art & Design;Pretend Play : 0.01128158844765343\n",
      "Art & Design;Action & Adventure : 0.01128158844765343\n",
      "Arcade;Pretend Play : 0.01128158844765343\n",
      "Adventure;Education : 0.01128158844765343\n"
     ]
    }
   ],
   "source": [
    "display_table(android_final,9)    #Genres"
   ]
  },
  {
   "cell_type": "markdown",
   "metadata": {},
   "source": [
    "The difference between the Category and Genres columns is not so clear. However we can surely say that the App Store is dominated by apps designed for fun while Google Play shows a more bilanced profile. Now we would like to get an idea about the kind of apps that have more users. "
   ]
  },
  {
   "cell_type": "markdown",
   "metadata": {},
   "source": [
    "# Most popular apps by Genres on the App Store"
   ]
  },
  {
   "cell_type": "markdown",
   "metadata": {},
   "source": [
    "Now we would like to get an idea about the kind of apps with the most users. For the Google play we can find this information in the *Installs* column , but this information is missing in the App Store data set. As a solution, we'll take the total number of user ratings which we can find in the *rating_count_tot* column. "
   ]
  },
  {
   "cell_type": "code",
   "execution_count": 25,
   "metadata": {},
   "outputs": [
    {
     "name": "stdout",
     "output_type": "stream",
     "text": [
      "Book : 39758.5\n",
      "Medical : 612.0\n",
      "Education : 7003.983050847458\n",
      "Navigation : 86090.33333333333\n",
      "Entertainment : 14029.830708661417\n",
      "Games : 22788.6696905016\n",
      "Lifestyle : 16485.764705882353\n",
      "Music : 57326.530303030304\n",
      "Photo & Video : 28441.54375\n",
      "Social Networking : 71548.34905660378\n",
      "Food & Drink : 33333.92307692308\n",
      "Reference : 74942.11111111111\n",
      "Finance : 31467.944444444445\n",
      "Utilities : 18684.456790123455\n",
      "Health & Fitness : 23298.015384615384\n",
      "Shopping : 26919.690476190477\n",
      "News : 21248.023255813954\n",
      "Weather : 52279.892857142855\n",
      "Sports : 23008.898550724636\n",
      "Business : 7491.117647058823\n",
      "Productivity : 21028.410714285714\n",
      "Travel : 28243.8\n",
      "Catalogs : 4004.0\n"
     ]
    }
   ],
   "source": [
    "genres_ios = freq_table(ios_final,-5)\n",
    "\n",
    "for genre in genres_ios:\n",
    "    total=0\n",
    "    len_genre=0\n",
    "    for app in ios_final:\n",
    "        genre_app = app[-5]\n",
    "        if genre_app == genre:\n",
    "            number_ratings=float(app[5])\n",
    "            total += number_ratings\n",
    "            len_genre += 1\n",
    "    average_n_ratings = total/len_genre\n",
    "    print(genre , ':' , average_n_ratings)\n",
    "            "
   ]
  },
  {
   "cell_type": "markdown",
   "metadata": {},
   "source": [
    "Let's try to analyze the results for the best genres:\n",
    "* *Navigation, Social Networking , Music and Reference* have the best scores but as we can see below, their results are strongly influenced by few big companies (Facebook, Pinterest, WhatsApp for *Social Networking* , Waze , Google Maps for *Navigation* etc.) , that make these genres seem better for our purpose than they really are."
   ]
  },
  {
   "cell_type": "code",
   "execution_count": 31,
   "metadata": {
    "scrolled": false
   },
   "outputs": [
    {
     "name": "stdout",
     "output_type": "stream",
     "text": [
      "Facebook : 2974676\n",
      "Pinterest : 1061624\n",
      "Skype for iPhone : 373519\n",
      "Messenger : 351466\n",
      "Tumblr : 334293\n",
      "WhatsApp Messenger : 287589\n",
      "Kik : 260965\n",
      "ooVoo – Free Video Call, Text and Voice : 177501\n",
      "TextNow - Unlimited Text + Calls : 164963\n",
      "Viber Messenger – Text & Call : 164249\n",
      "Followers - Social Analytics For Instagram : 112778\n",
      "MeetMe - Chat and Meet New People : 97072\n",
      "We Heart It - Fashion, wallpapers, quotes, tattoos : 90414\n",
      "InsTrack for Instagram - Analytics Plus More : 85535\n",
      "Tango - Free Video Call, Voice and Chat : 75412\n",
      "LinkedIn : 71856\n",
      "Match™ - #1 Dating App. : 60659\n",
      "Skype for iPad : 60163\n",
      "POF - Best Dating App for Conversations : 52642\n",
      "Timehop : 49510\n",
      "Find My Family, Friends & iPhone - Life360 Locator : 43877\n",
      "Whisper - Share, Express, Meet : 39819\n",
      "Hangouts : 36404\n",
      "LINE PLAY - Your Avatar World : 34677\n",
      "WeChat : 34584\n",
      "Badoo - Meet New People, Chat, Socialize. : 34428\n",
      "Followers + for Instagram - Follower Analytics : 28633\n",
      "GroupMe : 28260\n",
      "Marco Polo Video Walkie Talkie : 27662\n",
      "Miitomo : 23965\n",
      "SimSimi : 23530\n",
      "Grindr - Gay and same sex guys chat, meet and date : 23201\n",
      "Wishbone - Compare Anything : 20649\n",
      "imo video calls and chat : 18841\n",
      "After School - Funny Anonymous School News : 18482\n",
      "Quick Reposter - Repost, Regram and Reshare Photos : 17694\n",
      "Weibo HD : 16772\n",
      "Repost for Instagram : 15185\n",
      "Live.me – Live Video Chat & Make Friends Nearby : 14724\n",
      "Nextdoor : 14402\n",
      "Followers Analytics for Instagram - InstaReport : 13914\n",
      "YouNow: Live Stream Video Chat : 12079\n",
      "FollowMeter for Instagram - Followers Tracking : 11976\n",
      "LINE : 11437\n",
      "eHarmony™ Dating App - Meet Singles : 11124\n",
      "Discord - Chat for Gamers : 9152\n",
      "QQ : 9109\n",
      "Telegram Messenger : 7573\n",
      "Weibo : 7265\n",
      "Periscope - Live Video Streaming Around the World : 6062\n",
      "Chat for Whatsapp - iPad Version : 5060\n",
      "QQ HD : 5058\n",
      "Followers Analysis Tool For Instagram App Free : 4253\n",
      "live.ly - live video streaming : 4145\n",
      "Houseparty - Group Video Chat : 3991\n",
      "SOMA Messenger : 3232\n",
      "Monkey : 3060\n",
      "Down To Lunch : 2535\n",
      "Flinch - Video Chat Staring Contest : 2134\n",
      "Highrise - Your Avatar Community : 2011\n",
      "LOVOO - Dating Chat : 1985\n",
      "PlayStation®Messages : 1918\n",
      "BOO! - Video chat camera with filters & stickers : 1805\n",
      "Qzone : 1649\n",
      "Chatous - Chat with new people : 1609\n",
      "Kiwi - Q&A : 1538\n",
      "GhostCodes - a discovery app for Snapchat : 1313\n",
      "Jodel : 1193\n",
      "FireChat : 1037\n",
      "Google Duo - simple video calling : 1033\n",
      "Fiesta by Tango - Chat & Meet New People : 885\n",
      "Google Allo — smart messaging : 862\n",
      "Peach — share vividly : 727\n",
      "Hey! VINA - Where Women Meet New Friends : 719\n",
      "Battlefield™ Companion : 689\n",
      "All Devices for WhatsApp - Messenger for iPad : 682\n",
      "Chat for Pokemon Go - GoChat : 500\n",
      "IAmNaughty – Dating App to Meet New People Online : 463\n",
      "Qzone HD : 458\n",
      "Zenly - Locate your friends in realtime : 427\n",
      "League of Legends Friends : 420\n",
      "豆瓣 : 407\n",
      "Candid - Speak Your Mind Freely : 398\n",
      "知乎 : 397\n",
      "Selfeo : 366\n",
      "Fake-A-Location Free ™ : 354\n",
      "Popcorn Buzz - Free Group Calls : 281\n",
      "Fam — Group video calling for iMessage : 279\n",
      "QQ International : 274\n",
      "Ameba : 269\n",
      "SoundCloud Pulse: for creators : 240\n",
      "Tantan : 235\n",
      "Cougar Dating & Life Style App for Mature Women : 213\n",
      "Rawr Messenger - Dab your chat : 180\n",
      "WhenToPost: Best Time to Post Photos for Instagram : 158\n",
      "Inke—Broadcast an amazing life : 147\n",
      "Mustknow - anonymous video Q&A : 53\n",
      "CTFxCmoji : 39\n",
      "Lobi : 36\n",
      "Chain: Collaborate On MyVideo Story/Group Video : 35\n",
      "botman - Real time video chat : 7\n",
      "BestieBox : 0\n",
      "MATCH ON LINE chat : 0\n",
      "niconico ch : 0\n",
      "LINE BLOG : 0\n",
      "bit-tube - Live Stream Video Chat : 0\n"
     ]
    }
   ],
   "source": [
    "for app in ios_final:\n",
    "    if app[-5]=='Social Networking':\n",
    "        print(app[1], ':', app[5])"
   ]
  },
  {
   "cell_type": "code",
   "execution_count": 32,
   "metadata": {},
   "outputs": [
    {
     "name": "stdout",
     "output_type": "stream",
     "text": [
      "Waze - GPS Navigation, Maps & Real-time Traffic : 345046\n",
      "Google Maps - Navigation & Transit : 154911\n",
      "Geocaching® : 12811\n",
      "CoPilot GPS – Car Navigation & Offline Maps : 3582\n",
      "ImmobilienScout24: Real Estate Search in Germany : 187\n",
      "Railway Route Search : 5\n"
     ]
    }
   ],
   "source": [
    "for app in ios_final:\n",
    "    if app[-5]=='Navigation':\n",
    "        print(app[1], ':', app[5])"
   ]
  },
  {
   "cell_type": "markdown",
   "metadata": {},
   "source": [
    "* *Weather* has a very good results but people generally don't spend so much time in these kind of apps , so despite the fact that these kind of apps are popular our revenue from the ads should not be so high as we would expect.\n",
    "* *Food & Drink* has some potential but to make a successful food & drink app is necessary to have a company in the food field and a delivery service , in fact some big examples here are McDonald's , Starbucks etc.\n",
    "* *Finance* should be another good choice but building a finance app requires domain knowledge and we wouldn't want to hire a finance expert. "
   ]
  },
  {
   "cell_type": "markdown",
   "metadata": {},
   "source": [
    "Let's see deeply the *Health & Fitness* and *Sports* genres:\n"
   ]
  },
  {
   "cell_type": "code",
   "execution_count": 34,
   "metadata": {},
   "outputs": [
    {
     "name": "stdout",
     "output_type": "stream",
     "text": [
      "Calorie Counter & Diet Tracker by MyFitnessPal : 507706\n",
      "Lose It! – Weight Loss Program and Calorie Counter : 373835\n",
      "Weight Watchers : 136833\n",
      "Sleep Cycle alarm clock : 104539\n",
      "Fitbit : 90496\n",
      "Period Tracker Lite : 53620\n",
      "Nike+ Training Club - Workouts & Fitness Plans : 33969\n",
      "Plant Nanny - Water Reminder with Cute Plants : 27421\n",
      "Sworkit - Custom Workouts for Exercise & Fitness : 16819\n",
      "Clue Period Tracker: Period & Ovulation Tracker : 13436\n",
      "Headspace : 12819\n",
      "Fooducate - Lose Weight, Eat Healthy,Get Motivated : 11875\n",
      "Runtastic Running, Jogging and Walking Tracker : 10298\n",
      "WebMD for iPad : 9142\n",
      "8fit - Workouts, meal plans and personal trainer : 8730\n",
      "Garmin Connect™ Mobile : 8341\n",
      "Record by Under Armour, connects with UA HealthBox : 7754\n",
      "Fitstar Personal Trainer : 7496\n",
      "My Cycles Period and Ovulation Tracker : 7469\n",
      "Seven - 7 Minute Workout Training Challenge : 6808\n",
      "RUNNING for weight loss: workout & meal plans : 6407\n",
      "Lifesum – Inspiring healthy lifestyle app : 5795\n",
      "Waterlogged - Daily Hydration Tracker : 5000\n",
      "J&J Official 7 Minute Workout : 4861\n",
      "Fitbod Workout Log: Strength Lifting Bodybuilding : 4668\n",
      "Runtastic Six Pack Abs Workout & Core Trainer : 4283\n",
      "Sweat: Kayla Itsines' Bikini Body Fitness Workouts : 3788\n",
      "Smart Alarm Clock : sleep cycle & snoring recorder : 3779\n",
      "My Challenge Tracker : 3682\n",
      "Charity Miles: Walking & Running Distance Tracker : 3115\n",
      "Ab & Core Sworkit - Free Workout Trainer : 2901\n",
      "Simple Habit : 2494\n",
      "Asana Rebel - Yoga Inspired Fitness : 2459\n",
      "Life Cycle - Track Your Time Automatically : 1760\n",
      "Freeletics Bodyweight - Workouts and Training : 1722\n",
      "Runtastic Results: Workout & Bodyweight Training : 1718\n",
      "My Water Balance: Daily Drink Tracker & Reminder : 1601\n",
      "Butt Sworkit - Free Workout Trainer to tone & lift : 960\n",
      "My Score Plus Weight Loss, Food & Exercise Tracker : 467\n",
      "Sleep Meister - Sleep Cycle Alarm Lite : 445\n",
      "Walk for a Dog : 412\n",
      "Quick Fit - 7 Minute Workout, Abs, and Yoga : 407\n",
      "Fit Girls Guide : 397\n",
      "Walking for Weight Loss: training plans, GPS, tips : 397\n",
      "Zen : 298\n",
      "Model My Diet - Women - Weight Loss Motivation : 236\n",
      "Runtastic Butt Workout & Booty Trainer Plans : 222\n",
      "Dot - A Period & Fertility Tracker : 142\n",
      "YAZIO – Calorie Counter & Nutrition Tracker : 115\n",
      "SmartFit - Wristband : 105\n",
      "Dr. Oz : 99\n",
      "Crane Connect : 94\n",
      "Morning Routine : Daily Habit Tracker : 40\n",
      "Wellbeyond Meditation for Kids : 36\n",
      "SenseSleep - Train Your Brain To Sleep Better : 22\n",
      "Snail Sleep-Dream Talk Recording : 19\n",
      "ameli, l'Assurance Maladie : 8\n",
      "VIBO RealMassager : 6\n",
      "FizzUp – Online Fitness Trainer : 5\n",
      "2Face Fitpack - Dein Trainingsprogramm mit persönlichem Ernährungsplan, Kalorienrechner und Trainingsplan : 0\n",
      "GYMONDO – Fitness Training für Zuhause : 0\n",
      "Superdrug : 0\n",
      "airweave sleep analysis : 0\n",
      "Sonia Tlev : 0\n",
      "Intuition Guidances : 0\n"
     ]
    }
   ],
   "source": [
    "for app in ios_final:\n",
    "    if app[-5]=='Health & Fitness':\n",
    "        print(app[1], ':', app[5])"
   ]
  },
  {
   "cell_type": "code",
   "execution_count": 37,
   "metadata": {},
   "outputs": [
    {
     "name": "stdout",
     "output_type": "stream",
     "text": [
      "ESPN: Get scores, news, alerts & watch live sports : 290996\n",
      "Yahoo Fantasy Sports : 190670\n",
      "WatchESPN : 159735\n",
      "The Masters Tournament : 148160\n",
      "Yahoo Sports - Teams, Scores, News & Highlights : 137951\n",
      "ESPN Fantasy Football Baseball Basketball Hockey : 64925\n",
      "CBS Sports App - Sports Scores, News, Stats, Watch : 59639\n",
      "FOX Sports Mobile : 57500\n",
      "2016 U.S. Open Golf Championship : 54192\n",
      "NBC Sports : 47172\n",
      "NBA : 43682\n",
      "ESPN Tournament Challenge : 39642\n",
      "2016 US Open Tennis Championships : 37522\n",
      "NFL : 27317\n",
      "MLB.com At Bat : 21830\n",
      "The Championships, Wimbledon 2016 - Tennis Grand Slam : 20953\n",
      "DraftKings - Daily Fantasy Golf, Baseball, & More : 20251\n",
      "Bleacher Report: Sports news, scores, & highlights : 16979\n",
      "Univision Deportes: Liga MX, MLS, Fútbol En Vivo : 16683\n",
      "NASCAR MOBILE : 16385\n",
      "NHL : 15554\n",
      "FOX Sports GO : 13898\n",
      "NCAA March Madness Live - Men's College Basketball : 13572\n",
      "PGA Championship 2016 – Baltusrol Golf Club : 10472\n",
      "365Scores : 9879\n",
      "NFL Fantasy Football - Official NFL Fantasy App : 8234\n",
      "FanDuel - Daily Fantasy Baseball, Golf & Sports : 8014\n",
      "GolfNow – Book Tee Times, Golf GPS, Scorecard : 7535\n",
      "Ryder Cup 2016 – Hazeltine National Golf Club : 3818\n",
      "Onefootball - Soccer Scores & Live News : 3194\n",
      "NFL HUDDLE: Football Card Trader : 2896\n",
      "KICK: Official Football Card Trader : 2641\n",
      "Hudl : 2622\n",
      "SportsManias: Sports Emojis, Fantasy & Team News : 2431\n",
      "BTN2Go : 1628\n",
      "Pac-12 Now : 1221\n",
      "Watch NFL Network : 1110\n",
      "Golf Live Extra : 840\n",
      "UFC ® : 809\n",
      "Premier League - Official App : 791\n",
      "NCAA Sports : 636\n",
      "The Olympics - Official App for the Olympic Games : 470\n",
      "NBC Sports Scores : 428\n",
      "DK Live – Fantasy Sports Play by Play and News : 416\n",
      "Résultats Foot en Direct : 339\n",
      "NFL Rush Gameday : 272\n",
      "NFL Gridiron from Panini - Card Collecting-Trading : 257\n",
      "Hiking Project : 247\n",
      "2016 U.S. Open Golf Championship for iPad : 146\n",
      "The Open : 142\n",
      "European Qualifiers Official App : 135\n",
      "TwinSpires Official Kentucky Derby Wagering App : 131\n",
      "SofaScore Live Sports: Scores, VIDEO & Stats : 103\n",
      "Team USA App : 101\n",
      "NBAmoji : 89\n",
      "FOX Sports VR : 81\n",
      "BAA Marathon : 70\n",
      "TCS NYC Marathon : 43\n",
      "Vendée Globe 2016 : 42\n",
      "Dream Team - be your own fantasy football manager : 35\n",
      "NFL Draft - Fan Mobile Pass : 32\n",
      "WKC Dog Show 2017 : 30\n",
      "CCTV5 : 14\n",
      "My8to18 : 10\n",
      "Race Calendar 2016 : 1\n",
      "Team GB Live : 1\n",
      "francetv JO – Regarder les Jeux Olympiques de Rio 2016 : 0\n",
      "FFmoji 2016 - Your Fantasy Football Emoji Keyboard : 0\n",
      "HowDidiDo : 0\n"
     ]
    }
   ],
   "source": [
    "for app in ios_final:\n",
    "    if app[-5]=='Sports':\n",
    "        print(app[1], ':', app[5])"
   ]
  },
  {
   "cell_type": "markdown",
   "metadata": {},
   "source": [
    "*Sports* and *Health & Fitness* don't have the best results in general , but as we can see there a lot of apps with a quite good score. For example in *Sports* there are 17 apps with a score greater or equal to 20,000.  "
   ]
  },
  {
   "cell_type": "markdown",
   "metadata": {},
   "source": [
    "We note that *Games* are absolutely the genre with the most number of apps in the App Store (free-English apps) but the market might be a bit saturated as we can see from the last results : *Games* has a score less than 23,000."
   ]
  },
  {
   "cell_type": "markdown",
   "metadata": {},
   "source": [
    "Now let's analyze the Google Play market as well."
   ]
  },
  {
   "cell_type": "markdown",
   "metadata": {},
   "source": [
    "# Most popular apps by Genre on the Google Play"
   ]
  },
  {
   "cell_type": "markdown",
   "metadata": {},
   "source": [
    "For the Google Play market we can get information about the number of installs so we should be able to obtain a clearer picture of the situation. "
   ]
  },
  {
   "cell_type": "code",
   "execution_count": 39,
   "metadata": {},
   "outputs": [
    {
     "name": "stdout",
     "output_type": "stream",
     "text": [
      "1,000,000+ : 15.726534296028879\n",
      "100,000+ : 11.552346570397113\n",
      "10,000,000+ : 10.548285198555957\n",
      "10,000+ : 10.198555956678701\n",
      "1,000+ : 8.393501805054152\n",
      "100+ : 6.915613718411552\n",
      "5,000,000+ : 6.825361010830325\n",
      "500,000+ : 5.561823104693141\n",
      "50,000+ : 4.7721119133574\n",
      "5,000+ : 4.512635379061372\n",
      "10+ : 3.5424187725631766\n",
      "500+ : 3.2490974729241873\n",
      "50,000,000+ : 2.3014440433213\n",
      "100,000,000+ : 2.1322202166064983\n",
      "50+ : 1.917870036101083\n",
      "5+ : 0.78971119133574\n",
      "1+ : 0.5076714801444043\n",
      "500,000,000+ : 0.2707581227436823\n",
      "1,000,000,000+ : 0.22563176895306858\n",
      "0+ : 0.04512635379061372\n",
      "0 : 0.01128158844765343\n"
     ]
    }
   ],
   "source": [
    "display_table(android_final,5)    # the Installs column"
   ]
  },
  {
   "cell_type": "markdown",
   "metadata": {},
   "source": [
    "The problem with this data is that it's not precise. Anyway we only want to get an idea of which app genres attract the most of users so we , we don't need perfect precision.\n",
    "We'll consider that an app with 100,000+ installs has 100,000 installs , an app with 1,000,000+ installs has 1,000,000 installs and so on.\n",
    "To perform computation we need to convert each install number from string to float removing commas and the plus characthers.\n",
    "We'll do this directly in the loop below and we also compute the average number of installs for each genre."
   ]
  },
  {
   "cell_type": "code",
   "execution_count": 40,
   "metadata": {
    "scrolled": true
   },
   "outputs": [
    {
     "name": "stdout",
     "output_type": "stream",
     "text": [
      "BEAUTY : 513151.88679245283\n",
      "COMICS : 817657.2727272727\n",
      "SHOPPING : 7036877.311557789\n",
      "ENTERTAINMENT : 11640705.88235294\n",
      "AUTO_AND_VEHICLES : 647317.8170731707\n",
      "EVENTS : 253542.22222222222\n",
      "PRODUCTIVITY : 16787331.344927534\n",
      "FAMILY : 3695641.8198090694\n",
      "HEALTH_AND_FITNESS : 4188821.9853479853\n",
      "COMMUNICATION : 38456119.167247385\n",
      "HOUSE_AND_HOME : 1331540.5616438356\n",
      "DATING : 854028.8303030303\n",
      "TRAVEL_AND_LOCAL : 13984077.710144928\n",
      "TOOLS : 10801391.298666667\n",
      "FINANCE : 1387692.475609756\n",
      "PERSONALIZATION : 5201482.6122448975\n",
      "MEDICAL : 120550.61980830671\n",
      "PARENTING : 542603.6206896552\n",
      "SOCIAL : 23253652.127118643\n",
      "FOOD_AND_DRINK : 1924897.7363636363\n",
      "BOOKS_AND_REFERENCE : 8767811.894736841\n",
      "LIBRARIES_AND_DEMO : 638503.734939759\n",
      "VIDEO_PLAYERS : 24727872.452830188\n",
      "ART_AND_DESIGN : 1986335.0877192982\n",
      "NEWS_AND_MAGAZINES : 9549178.467741935\n",
      "PHOTOGRAPHY : 17840110.40229885\n",
      "BUSINESS : 1712290.1474201474\n",
      "LIFESTYLE : 1437816.2687861272\n",
      "MAPS_AND_NAVIGATION : 4056941.7741935486\n",
      "SPORTS : 3638640.1428571427\n",
      "WEATHER : 5074486.197183099\n",
      "GAME : 15588015.603248259\n",
      "EDUCATION : 1833495.145631068\n"
     ]
    }
   ],
   "source": [
    "category_android = freq_table(android_final,1)\n",
    "\n",
    "for category in category_android:\n",
    "    total=0\n",
    "    len_category=0\n",
    "    for app in android_final:\n",
    "        category_app = app[1]\n",
    "        if category_app == category:\n",
    "            n_installs = app[5]\n",
    "            n_installs = n_installs.replace('+','')\n",
    "            n_installs = n_installs.replace(',','')\n",
    "            total += float(n_installs)\n",
    "            len_category += 1\n",
    "    avg_n_installs = total / len_category\n",
    "    print(category,':',avg_n_installs)\n",
    "            \n",
    "\n"
   ]
  },
  {
   "cell_type": "markdown",
   "metadata": {},
   "source": [
    "On average , the categories with best results are *Communication* and *Video_Players*. "
   ]
  },
  {
   "cell_type": "code",
   "execution_count": 41,
   "metadata": {},
   "outputs": [
    {
     "name": "stdout",
     "output_type": "stream",
     "text": [
      "WhatsApp Messenger : 1,000,000,000+\n",
      "imo beta free calls and text : 100,000,000+\n",
      "Android Messages : 100,000,000+\n",
      "Google Duo - High Quality Video Calls : 500,000,000+\n",
      "Messenger – Text and Video Chat for Free : 1,000,000,000+\n",
      "imo free video calls and chat : 500,000,000+\n",
      "Skype - free IM & video calls : 1,000,000,000+\n",
      "Who : 100,000,000+\n",
      "GO SMS Pro - Messenger, Free Themes, Emoji : 100,000,000+\n",
      "LINE: Free Calls & Messages : 500,000,000+\n",
      "Google Chrome: Fast & Secure : 1,000,000,000+\n",
      "Firefox Browser fast & private : 100,000,000+\n",
      "UC Browser - Fast Download Private & Secure : 500,000,000+\n",
      "Gmail : 1,000,000,000+\n",
      "Hangouts : 1,000,000,000+\n",
      "Messenger Lite: Free Calls & Messages : 100,000,000+\n",
      "Kik : 100,000,000+\n",
      "KakaoTalk: Free Calls & Text : 100,000,000+\n",
      "Opera Mini - fast web browser : 100,000,000+\n",
      "Opera Browser: Fast and Secure : 100,000,000+\n",
      "Telegram : 100,000,000+\n",
      "Truecaller: Caller ID, SMS spam blocking & Dialer : 100,000,000+\n",
      "UC Browser Mini -Tiny Fast Private & Secure : 100,000,000+\n",
      "Viber Messenger : 500,000,000+\n",
      "WeChat : 100,000,000+\n",
      "Yahoo Mail – Stay Organized : 100,000,000+\n",
      "BBM - Free Calls & Messages : 100,000,000+\n"
     ]
    }
   ],
   "source": [
    "for app in android_final:\n",
    "    if (app[1] == 'COMMUNICATION') and (app[5] == '1,000,000,000+'\n",
    "                                      or app[5] == '500,000,000+'\n",
    "                                      or app[5] == '100,000,000+'):\n",
    "        print(app[0], ':', app[5])"
   ]
  },
  {
   "cell_type": "markdown",
   "metadata": {},
   "source": [
    "We can make the same consideration made previously , there are some few big companies that strongly influence the market.\n",
    "Now let's have a look to smaller categories , for example the sports one."
   ]
  },
  {
   "cell_type": "code",
   "execution_count": 44,
   "metadata": {},
   "outputs": [
    {
     "name": "stdout",
     "output_type": "stream",
     "text": [
      "Free Sports TV : 100,000+\n",
      "LiveScore: Live Sport Updates : 10,000,000+\n",
      "Onefootball - Soccer Scores : 10,000,000+\n",
      "Cristiano Ronaldo Wallpaper : 500,000+\n",
      "Futbol24 : 1,000,000+\n",
      "kicker football news : 5,000,000+\n",
      "Football Live Scores : 5,000,000+\n",
      "Pro 2018 - Series A and B : 5,000,000+\n",
      "BeSoccer - Soccer Live Score : 10,000,000+\n",
      "Sport.pl LIVE : 1,000,000+\n",
      "The Team - Live Sport: football, tennis, rugby .. : 5,000,000+\n",
      "MARCA - Sports Leader Diary : 5,000,000+\n",
      "Sahadan Live Scores : 5,000,000+\n",
      "Foot Mercato: transfers, results, news, live : 1,000,000+\n",
      "All Football - Latest News & Videos : 10,000,000+\n",
      "Eurosport : 10,000,000+\n",
      "beIN SPORTS TR : 10,000,000+\n",
      "All Football GO- Live Score, Games : 100,000+\n",
      "Top Mercato: football news : 1,000,000+\n",
      "GollerCepte Live Score : 1,000,000+\n",
      "Championat : 1,000,000+\n",
      "Hovercraft Racer : 100,000+\n",
      "World Cup 2018 : 500,000+\n",
      "GollerCepte 1903 : 500,000+\n",
      "League18 : 500,000+\n",
      "Speed Boat Racing : 1,000,000+\n",
      "La Liga - Spanish Soccer League Official : 10,000,000+\n",
      "Lionel Messi Wallpapers : 100,000+\n",
      "Goal Live Scores : 5,000,000+\n",
      "NUsport : 100,000+\n",
      "U + professional baseball : 500,000+\n",
      "Mackolik Live Results : 10,000,000+\n",
      "Mercato foot by Maxifoot : 100,000+\n",
      "MUTV - Manchester United TV : 500,000+\n",
      "Hole19: Golf GPS App, Rangefinder & Scorecard : 100,000+\n",
      "WatchESPN : 10,000,000+\n",
      "CBS Sports Fantasy : 1,000,000+\n",
      "NBC Sports : 5,000,000+\n",
      "NBC Sports Gold : 100,000+\n",
      "UFC : 1,000,000+\n",
      "Telemundo Deportes - Live : 1,000,000+\n",
      "SwingAid - Level up Golf : 100,000+\n",
      "Golf Channel : 1,000,000+\n",
      "The Rules of Golf : 100,000+\n",
      "GolfNow: Tee Time Deals at Golf Courses, Golf GPS : 1,000,000+\n",
      "Golf GPS by SwingxSwing : 1,000,000+\n",
      "Zepp Golf Swing Analyzer : 100,000+\n",
      "Live Golf Scores - US & European Golf : 50,000+\n",
      "Golfshot: Golf GPS + Tee Times : 500,000+\n",
      "PGA TOUR LIVE : 100,000+\n",
      "Golf GPS Rangefinder: Golf Pad : 1,000,000+\n",
      "Mobitee GPS Golf Free : 100,000+\n",
      "GolfLogix GPS + Putt Breaks : 1,000,000+\n",
      "PGA TOUR : 1,000,000+\n",
      "FanDuel: Daily Fantasy Sports : 1,000,000+\n",
      "DraftKings - Daily Fantasy Sports : 1,000,000+\n",
      "Fantasy Football Manager (FPL) : 1,000,000+\n",
      "Fantasy Football : 1,000,000+\n",
      "ESPN : 10,000,000+\n",
      "US Open Tennis Championships 2018 : 1,000,000+\n",
      "Bleacher Report: sports news, scores, & highlights : 5,000,000+\n",
      "Live Tennis Rankings / LTR : 10,000+\n",
      "Tennis Livescore Widget : 50,000+\n",
      "Tennis Temple - Live Scores : 100,000+\n",
      "The Championships, Wimbledon 2018 : 1,000,000+\n",
      "theScore: Live Sports Scores, News, Stats & Videos : 10,000,000+\n",
      "Tennis 24 - tennis live scores : 100,000+\n",
      "Yahoo Sports - scores, stats, news, & highlights : 1,000,000+\n",
      "Tennis News and Scores : 10,000+\n",
      "MLB At Bat : 5,000,000+\n",
      "MSN Sports - Scores & Schedule : 500,000+\n",
      "FOX Sports: Live Streaming, Scores & News : 5,000,000+\n",
      "FotMob - Live Soccer Scores : 10,000,000+\n",
      "Sports Alerts - NFL edition : 100,000+\n",
      "NCAA March Madness Live : 5,000,000+\n",
      "NFL : 50,000,000+\n",
      "SportsManias Fantasy Team News : 500,000+\n",
      "Thuuz Sports : 500,000+\n",
      "NCAA Sports : 500,000+\n",
      "850 Sports News Digest : 10,000+\n",
      "FIFA - Tournaments, Soccer News & Live Scores : 10,000,000+\n",
      "365Scores - Live Scores : 10,000,000+\n",
      "Cricbuzz - Live Cricket Scores & News : 50,000,000+\n",
      "Fantasy Football & NFL News : 100,000+\n",
      "NBA : 10,000,000+\n",
      "BBC Sport : 1,000,000+\n",
      "NHL : 5,000,000+\n",
      "NASCAR MOBILE : 1,000,000+\n",
      "MLB Ballpark : 1,000,000+\n",
      "Univision Deportes: Liga MX, MLS, Fútbol Live : 5,000,000+\n",
      "Real Basketball : 10,000,000+\n",
      "Basketball Stars : 10,000,000+\n",
      "Be A Legend: Soccer : 1,000,000+\n",
      "3D Bowling : 100,000,000+\n",
      "theScore esports : 500,000+\n",
      "Wrestling Revolution 3D : 50,000,000+\n",
      "I'm Ping Pong King :) : 1,000,000+\n",
      "The J-Notes: Jazz News : 1,000+\n",
      "AE Basketball : 1,000,000+\n",
      "AE Archer : 500,000+\n",
      "AE Air Hockey : 50,000+\n",
      "Apps for SportsBєtting.ag - Bitcoin Welcome here! : 1,000+\n",
      "Ah! Bird : 100,000+\n",
      "Alabama Gameday Live : 1,000+\n",
      "AL.com: Alabama Football News : 10,000+\n",
      "League of Gamers - Be an E-Sports Legend! : 5,000,000+\n",
      "PES 2018 PRO EVOLUTION SOCCER : 10,000,000+\n",
      "Tennis Champion 3D - Online Sports Game : 5,000,000+\n",
      "SofaScore Live Score : 10,000,000+\n",
      "Ultimate Tennis : 10,000,000+\n",
      "Soccer Star 2018 Top Leagues · MLS Soccer Games : 10,000,000+\n",
      "Range Master: Sniper Academy : 10,000,000+\n",
      "FC Barcelona Official App : 5,000,000+\n",
      "3D Tennis : 50,000,000+\n",
      "WGT Golf Game by Topgolf : 10,000,000+\n",
      "AQ Coach : 5+\n",
      "AS - News and sports results. : 1,000,000+\n",
      "MARCA - Diario Líder Deportivo : 5,000,000+\n",
      "AS Guía de las Ligas 2017-2018 : 100,000+\n",
      "Rugby AU : 1,000+\n",
      "Top #5 Bσσkie in AU : 100+\n",
      "Predator Calls for Hunting AU : 10,000+\n",
      "Ax 3 Domaines : 1,000+\n",
      "PBA® Bowling Challenge : 10,000,000+\n",
      "BC Hockey : 1,000+\n",
      "BD CRICKET LIVE : 100,000+\n",
      "BANGLA TV 3G/4G : 100,000+\n",
      "Be the Manager 2018 - Football Strategy : 100,000+\n",
      "Top Eleven 2018 - Be a Soccer Manager : 50,000,000+\n",
      "Be the Manager 2016 (football) : 100,000+\n",
      "BG Score : 10,000+\n",
      "BG Torneos : 100+\n",
      "BG Cricket : 500+\n",
      "BH Bikes Premium : 1,000+\n",
      "BH Bikes GPS Locator : 10+\n",
      "Pool Billiards Classic - bi a : 1,000,000+\n",
      "BJJ Roadmap by Stephan Kesting : 10,000+\n",
      "B.M.Snowboard Free : 1,000,000+\n",
      "Basket Manager 2018 Free : 50,000+\n",
      "Basket Manager 2017 Free : 100,000+\n",
      "Basket Manager 2016 Free : 100,000+\n",
      "BM Tahmin: Ücretsiz İddaa Tahminleri : 500+\n",
      "Bet Master Pro Soccer Predictions : 10,000+\n",
      "[BN] Blitz : 100+\n",
      "BQ Llicència : 5,000+\n",
      "Bleacher Report Live : 50,000+\n",
      "BU Bison Nation : 100+\n",
      "BV Bombers : 100+\n",
      "BV Frankfurt inside : 50+\n",
      "BW Fuhlenbrock : 100+\n",
      "Fists For Fighting (Fx3) : 10,000,000+\n",
      "Cádiz CB Gades : 10+\n",
      "CD JUANITO : 500+\n",
      "CD Padel Mora : 50+\n",
      "Ultra CE calculator : 1,000+\n",
      "Cacique CF : 100+\n",
      "Cluster CF : 100+\n",
      "Imperium CF : 500+\n",
      "Azulones Getafe CF Fans : 100+\n",
      "CG Smart : 100+\n",
      "Betting Tips / Sports Tips by CG Tipster : 10,000+\n",
      "Cl-app! : 10,000+\n",
      "Sporting CP Keyboard Theme : 5,000+\n",
      "CricQuick : 50+\n",
      "CX_WiFiUFO : 100,000+\n",
      "TeeTime.cz : 10,000+\n",
      "Da Fit : 10,000+\n",
      "Soccer FC : 1,000,000+\n",
      "DF Coaching : 100+\n",
      "Guia Bike DF : 100+\n",
      "Bike Unchained : 5,000,000+\n",
      "Bike 3D Configurator : 1,000,000+\n",
      "FIFA Soccer : 100,000,000+\n",
      "DK Live - Sports Play by Play : 100,000+\n",
      "DK Pittsburgh Sports : 10,000+\n",
      "LineStar For DK : 50,000+\n",
      "DL Calculator : 10,000+\n",
      "DM Tuning : 5,000+\n",
      "Dude Perfect : 10,000+\n",
      "Monster Fishing 2018 : 1,000,000+\n",
      "Draft Simulator for FUT 18 : 5,000,000+\n",
      "Soccer Manager 2018 : 1,000,000+\n",
      "Online Soccer Manager (OSM) : 10,000,000+\n",
      "DT Simple Interval Timer : 1,000+\n",
      "PES CLUB MANAGER : 10,000,000+\n",
      "\"i DT\" Fútbol. Todos Somos Técnicos. : 500+\n",
      "MasterDT : 100+\n",
      "Top Soccer Manager : 10,000,000+\n",
      "Soccer Board Tactics : 100,000+\n",
      "Portes du Soleil : 50,000+\n",
      "WiFi Action Camera : 100,000+\n",
      "PORTABLE SOCCER DX Lite : 1,000,000+\n",
      "EA SPORTS UFC® : 50,000,000+\n",
      "NBA LIVE Mobile Basketball : 50,000,000+\n",
      "EA SPORTS™ FIFA 18 Companion : 10,000,000+\n",
      "FIFA 16 Soccer : 10,000,000+\n",
      "MLB Perfect Inning 2018 : 1,000,000+\n",
      "Real Football : 10,000,000+\n",
      "EB-TV : 1,000+\n",
      "Paraglider Dashboard : 50,000+\n",
      "EC-HRV test : 1,000+\n",
      "EC SPORTS : 10+\n",
      "EC Games Datecs : 10,000+\n",
      "E.F.JUVENTUD MADRID : 100+\n",
      "Fit the Fat 2 : 5,000,000+\n",
      "Esporte Interativo - Notícias e Resultados Ao Vivo : 500,000+\n",
      "Esporte Interativo Plus : 1,000,000+\n",
      "EJ Elite Prospects League : 1,000+\n",
      "Booking Revolution : 5,000,000+\n",
      "Real Madrid App : 5,000,000+\n",
      "CBS Sports App - Scores, News, Stats & Watch Live : 5,000,000+\n",
      "Yahoo Fantasy Sports - #1 Rated Fantasy App : 5,000,000+\n",
      "Yoong: Kick 'Em Up! : 100,000+\n",
      "Telemundo Deportes - En Vivo : 1,000,000+\n",
      "Univision Deportes: Liga MX, MLS, Fútbol En Vivo : 5,000,000+\n",
      "SK Bosnia Online EU Teplice : 5+\n",
      "EY Football : 10+\n",
      "Beach Volleyball 3D : 5,000,000+\n",
      "FA Player Essentials : 100+\n",
      "Hertfordshire FA : 500+\n",
      "Premier League - Official App : 5,000,000+\n",
      "ESPN Fantasy Sports : 5,000,000+\n",
      "Soccer 2018 : 10,000,000+\n",
      "Barca News - app for Barcelona FC Fans : 10,000+\n",
      "FC Barcelona Fantasy Manager: Real football mobile : 1,000,000+\n",
      "FC Barcelona Official Keyboard : 500,000+\n",
      "Barcelona Live 2018—Goals & News for Barca FC Fans : 10,000+\n",
      "Barcelona News - Sportfusion : 10,000+\n",
      "Barcelona Calendar : 10,000+\n",
      "Barca News - FC Barcelona, World Foot & Transfers : 10,000+\n",
      "FC Bayern Munich : 1,000,000+\n",
      "FC BARCELONA EVENTS : 100+\n",
      "Barcelona Live - Goal Score & News for Barca Fans : 10,000+\n",
      "Seattle Sounders FC : 10,000+\n",
      "1. FC Köln App : 100,000+\n",
      "FC Porto : 100,000+\n",
      "Fulham FC : 10,000+\n",
      "Burnley FC : 5,000+\n",
      "Atlanta United FC : 10,000+\n",
      "Sydney FC Official App : 5,000+\n",
      "Birmingham City FC : 10,000+\n",
      "My AEK - Official ΑΕΚ FC app : 50,000+\n",
      "Toronto FC : 10,000+\n",
      "Middlesbrough FC Official : 10,000+\n",
      "The 5th Stand : 100,000+\n",
      "FC Red Bull Salzburg App : 50,000+\n",
      "FC Zenit official Android app : 100,000+\n",
      "Fan App for Portsmouth FC : 1,000+\n",
      "Mobile FC : 100,000+\n",
      "Fan App for Reading FC : 500+\n",
      "Deportivo Toluca FC : 50,000+\n",
      "Underdog FC : 10,000+\n",
      "Las Vegas Lights FC : 500+\n",
      "APOEL FC : 10,000+\n",
      "Formula DRIFT : 10,000+\n",
      "Sports Lite : 1,000+\n",
      "LineStar for FanDuel : 50,000+\n",
      "Santa Fe App : 5,000+\n",
      "Leghe Fantagazzetta : 1,000,000+\n",
      "Field Goal Tournament : 100,000+\n",
      "Strike! Ten Pin Bowling : 5,000,000+\n",
      "FK Sūduva Marijampolė : 10+\n",
      "FK Željezničar : 10,000+\n",
      "FK Oleksandria : 10+\n",
      "FK Sileks : 1+\n",
      "Qarabağ FK : 100+\n",
      "FK Sloboda Tuzla : 10+\n",
      "FK Jelgava : 5+\n",
      "FK Vojvodina : 50+\n",
      "FK Liepaja : 100+\n",
      "FK Teplice : 50+\n",
      "FK Sarajevo : 100+\n",
      "FK Vardar : 10+\n",
      "FK Bregalnica Štip : 1+\n",
      "FK Mladost Lucani : 5+\n",
      "FK Radnicki Nis : 50+\n",
      "FK Dukla Prague : 10+\n",
      "FK Rad : 10+\n",
      "FK Jablonec : 50+\n",
      "FK Senica : 10+\n",
      "FK Vozdovac : 10+\n",
      "FK Mladá Boleslav : 10+\n",
      "FK Macva Sabac : 10+\n",
      "FK Crvena zvezda : 10,000+\n",
      "FK Jonava : 5+\n",
      "FK Čukarički : 10+\n",
      "Austria Wien FK - Fussball - Inoffizielle App : 100+\n",
      "FK Železiarne Podbrezová : 5+\n",
      "FK Viktoria Žižkov : 10+\n",
      "FK Zemun : 10+\n",
      "FK Atlantas : 5+\n",
      "FK Spartak Subotica : 10+\n",
      "FK Dedinje BGD : 100+\n",
      "FK Fotbal Třinec : 10+\n",
      "FK Utenis Utena : 5+\n",
      "Crazy Freekick : 5,000,000+\n",
      "FL Racing Manager 2018 Lite : 100,000+\n",
      "Florida State Gameday : 50,000+\n",
      "Hunting Safari 3D : 5,000,000+\n",
      "Mobile Kick : 10,000,000+\n",
      "FQ - Football Quiz : 1+\n"
     ]
    }
   ],
   "source": [
    "for app in android_final:\n",
    "    if app[1] == 'SPORTS': \n",
    "        print(app[0], ':', app[5])"
   ]
  },
  {
   "cell_type": "code",
   "execution_count": 42,
   "metadata": {},
   "outputs": [
    {
     "name": "stdout",
     "output_type": "stream",
     "text": [
      "3D Bowling : 100,000,000+\n",
      "FIFA Soccer : 100,000,000+\n"
     ]
    }
   ],
   "source": [
    "for app in android_final:\n",
    "    if app[1] == 'SPORTS' and (app[5] == '1,000,000,000+'\n",
    "                                            or app[5] == '500,000,000+'\n",
    "                                            or app[5] == '100,000,000+'):\n",
    "        print(app[0], ':', app[5])"
   ]
  },
  {
   "cell_type": "markdown",
   "metadata": {},
   "source": [
    "Here the situation is much different. There aren't big companies that dominates the market as we can see from the fact that there are only 2 apps that have 100,000,000+ installs."
   ]
  },
  {
   "cell_type": "markdown",
   "metadata": {},
   "source": [
    "# Conclusion"
   ]
  },
  {
   "cell_type": "markdown",
   "metadata": {},
   "source": [
    "In this project we analyzed data from the App Store and the Google Play with the goal of recommanding an app profile that can be profitable for both markets.\n"
   ]
  },
  {
   "cell_type": "markdown",
   "metadata": {},
   "source": [
    "We concluded that an app which is about sport could be a good choice.The market of this kind of apps is not dominated by big companies, and so there is some potential. Best sports choice seems to be football and basketball beacuse of their big popularity. "
   ]
  }
 ],
 "metadata": {
  "kernelspec": {
   "display_name": "Python 3",
   "language": "python",
   "name": "python3"
  },
  "language_info": {
   "codemirror_mode": {
    "name": "ipython",
    "version": 3
   },
   "file_extension": ".py",
   "mimetype": "text/x-python",
   "name": "python",
   "nbconvert_exporter": "python",
   "pygments_lexer": "ipython3",
   "version": "3.7.3"
  }
 },
 "nbformat": 4,
 "nbformat_minor": 2
}
